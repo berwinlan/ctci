{
 "cells": [
  {
   "cell_type": "code",
   "execution_count": 9,
   "metadata": {},
   "outputs": [],
   "source": [
    "# 1.1 Is Unique\n",
    "# Implement an algorithm to determine if a string has all unique characters. What if you cannot use additional data structures?\n",
    "def is_unique(s):\n",
    "    \"\"\"Determines if a string has all unique characters.\n",
    "\n",
    "    Args:\n",
    "        s (string): A string.\n",
    "    \"\"\"\n",
    "    return len(s) == len(set(s))"
   ]
  },
  {
   "cell_type": "code",
   "execution_count": 11,
   "metadata": {},
   "outputs": [
    {
     "data": {
      "text/plain": [
       "(True, False, True)"
      ]
     },
     "execution_count": 11,
     "metadata": {},
     "output_type": "execute_result"
    }
   ],
   "source": [
    "unique_string = \"asdfghjkl\"\n",
    "not_unique_string = \"aassddffgghhjjkkll\"\n",
    "\n",
    "# Edge case\n",
    "empty_string = \"\"\n",
    "\n",
    "is_unique(unique_string), is_unique(not_unique_string), is_unique(empty_string)"
   ]
  },
  {
   "cell_type": "code",
   "execution_count": null,
   "metadata": {},
   "outputs": [],
   "source": [
    "# What if you cannot use additional data structures?\n",
    "def is_unique2(s):\n",
    "    # TODO - hints"
   ]
  },
  {
   "cell_type": "code",
   "execution_count": 12,
   "metadata": {},
   "outputs": [],
   "source": [
    "# 1.2 Check Permutation\n",
    "# Given two strings, write a method to decide if one is a permutation of the other.\n",
    "def is_permutation(s1, s2):\n",
    "    return sorted(s1) == sorted(s2)"
   ]
  },
  {
   "cell_type": "code",
   "execution_count": 13,
   "metadata": {},
   "outputs": [
    {
     "data": {
      "text/plain": [
       "(True, False)"
      ]
     },
     "execution_count": 13,
     "metadata": {},
     "output_type": "execute_result"
    }
   ],
   "source": [
    "is_permutation1 = \"abc\"\n",
    "is_permutation2 = \"bac\"\n",
    "permutatisnt = \"bba\"\n",
    "\n",
    "is_permutation(is_permutation1, is_permutation2), is_permutation(is_permutation1, permutatisnt)"
   ]
  },
  {
   "cell_type": "code",
   "execution_count": 17,
   "metadata": {},
   "outputs": [],
   "source": [
    "# 1.3 URLify\n",
    "# Write a method to replace all spaces in a string with '%20\", given the string and true length of the string. \n",
    "# The string has sufficient space at the end to hold the additional characters.\n",
    "# Example input: \"Mr John Smith      \", 13 --> \"Mr%20John%20Smith\"\n",
    "def urlify(s):\n",
    "    split_string = s.split()\n",
    "    return \"%20\".join(split_string)"
   ]
  },
  {
   "cell_type": "code",
   "execution_count": 22,
   "metadata": {},
   "outputs": [
    {
     "data": {
      "text/plain": [
       "('Mr%20John%20Smith', '')"
      ]
     },
     "execution_count": 22,
     "metadata": {},
     "output_type": "execute_result"
    }
   ],
   "source": [
    "# How should this function deal with empty strings, or strings without non-space chars?\n",
    "urlify(\"Mr John Smith      \"), urlify(\"\")"
   ]
  },
  {
   "cell_type": "code",
   "execution_count": 17,
   "metadata": {},
   "outputs": [],
   "source": [
    "# 1.4 Palindrome Permutation\n",
    "# Given a string, write a function to check if it is a permutation of a palindrome.\n",
    "# EX: Input -> Tact Coa\n",
    "#     Output -> True\n",
    "# not limited to just dictionary words, ignore casing and non-letter characters\n",
    "\n",
    "def is_palindrome_permutation(s):\n",
    "    # if the string has two of every letter OR two of every letter but one, it's a palindrome\n",
    "    from collections import Counter\n",
    "\n",
    "    s = s.lower().replace(\" \", \"\")\n",
    "    counter = Counter(s)\n",
    "    return counter"
   ]
  },
  {
   "cell_type": "code",
   "execution_count": 18,
   "metadata": {},
   "outputs": [
    {
     "data": {
      "text/plain": [
       "Counter({'t': 2, 'o': 1, 'a': 2, 'c': 2})"
      ]
     },
     "execution_count": 18,
     "metadata": {},
     "output_type": "execute_result"
    }
   ],
   "source": [
    "is_palindrome_permutation(\"Toact Ca\")"
   ]
  },
  {
   "cell_type": "code",
   "execution_count": 25,
   "metadata": {},
   "outputs": [],
   "source": [
    "# 1.5 One Away\n",
    "# There are three types of edits: insert a character, remove a character, replace a character\n",
    "# Given two strings, write a function to check if they are one or zero edits away\n",
    "\n",
    "def is_one_away(s1, s2):\n",
    "    # set difference?\n",
    "    return len(set(s1).difference(set(s2))) <= 1"
   ]
  },
  {
   "cell_type": "code",
   "execution_count": 26,
   "metadata": {},
   "outputs": [
    {
     "data": {
      "text/plain": [
       "(True, True, True, False)"
      ]
     },
     "execution_count": 26,
     "metadata": {},
     "output_type": "execute_result"
    }
   ],
   "source": [
    "is_one_away('pale', 'ple'), is_one_away('pales', 'pale'), is_one_away('pale', 'bale'), is_one_away('pale', 'bake')\n",
    "# true, true, true, false; test cases are from the book"
   ]
  },
  {
   "cell_type": "code",
   "execution_count": null,
   "metadata": {},
   "outputs": [],
   "source": [
    "# 1.6 String Compression\n",
    "# Implement string compression using the counts of repeated characters\n",
    "# EX: \"aabcccccaaa\" would become \"a2b1c5a3\"\n",
    "# If compressed string would not become smaller than the original string, your method should return the original string\n",
    "# Assume string only has uppercase and lowercase letters\n",
    "def compress_string(s):\n",
    "    "
   ]
  },
  {
   "cell_type": "code",
   "execution_count": null,
   "metadata": {},
   "outputs": [],
   "source": [
    "# 1.7 Rotate Matrix\n",
    "# Given an image represented by an `N x N` matrix, where each pixel in the image is represented by an integer, \n",
    "# write a method to rotate the image by 90 degrees"
   ]
  },
  {
   "cell_type": "code",
   "execution_count": null,
   "metadata": {},
   "outputs": [],
   "source": [
    "# Can you do this in place?"
   ]
  },
  {
   "cell_type": "code",
   "execution_count": null,
   "metadata": {},
   "outputs": [],
   "source": [
    "# 1.8 Zero Matrix\n",
    "# Write an algorithm such that if an element in an `M x N` matrix is 0, its entire row and column are set to 0\n"
   ]
  },
  {
   "cell_type": "code",
   "execution_count": null,
   "metadata": {},
   "outputs": [],
   "source": [
    "# 1.9 String Rotation\n",
    "# Assume you have a method isSubstring which checks if one word is a substring of another.\n",
    "# Given two strings, s1 and s2, write code to check if s2 is a rotation of s1 using only one call to isSubstring\n",
    "# isSubstring: \"waterbottle\" is a rotation of \"erbottlewat\""
   ]
  }
 ],
 "metadata": {
  "interpreter": {
   "hash": "799d3c72850e58606967a4f11f01073678afbf1088eed5c7470a788584980e57"
  },
  "kernelspec": {
   "display_name": "Python 3.9.7 64-bit",
   "name": "python3"
  },
  "language_info": {
   "codemirror_mode": {
    "name": "ipython",
    "version": 3
   },
   "file_extension": ".py",
   "mimetype": "text/x-python",
   "name": "python",
   "nbconvert_exporter": "python",
   "pygments_lexer": "ipython3",
   "version": "3.9.7"
  },
  "orig_nbformat": 4
 },
 "nbformat": 4,
 "nbformat_minor": 2
}
