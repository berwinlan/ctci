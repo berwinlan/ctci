{
 "cells": [
  {
   "cell_type": "code",
   "execution_count": 9,
   "metadata": {},
   "outputs": [],
   "source": [
    "# 1.1 Is Unique\n",
    "# Implement an algorithm to determine if a string has all unique characters. What if you cannot use additional data structures?\n",
    "def is_unique(s):\n",
    "    \"\"\"Determines if a string has all unique characters.\n",
    "\n",
    "    Args:\n",
    "        s (string): A string.\n",
    "    \"\"\"\n",
    "    return len(s) == len(set(s))"
   ]
  },
  {
   "cell_type": "code",
   "execution_count": 11,
   "metadata": {},
   "outputs": [
    {
     "data": {
      "text/plain": [
       "(True, False, True)"
      ]
     },
     "execution_count": 11,
     "metadata": {},
     "output_type": "execute_result"
    }
   ],
   "source": [
    "unique_string = \"asdfghjkl\"\n",
    "not_unique_string = \"aassddffgghhjjkkll\"\n",
    "\n",
    "# Edge case\n",
    "empty_string = \"\"\n",
    "\n",
    "is_unique(unique_string), is_unique(not_unique_string), is_unique(empty_string)"
   ]
  },
  {
   "cell_type": "code",
   "execution_count": null,
   "metadata": {},
   "outputs": [],
   "source": [
    "# What if you cannot use additional data structures?\n",
    "def is_unique2(s):\n",
    "    "
   ]
  }
 ],
 "metadata": {
  "interpreter": {
   "hash": "799d3c72850e58606967a4f11f01073678afbf1088eed5c7470a788584980e57"
  },
  "kernelspec": {
   "display_name": "Python 3.9.7 64-bit",
   "name": "python3"
  },
  "language_info": {
   "codemirror_mode": {
    "name": "ipython",
    "version": 3
   },
   "file_extension": ".py",
   "mimetype": "text/x-python",
   "name": "python",
   "nbconvert_exporter": "python",
   "pygments_lexer": "ipython3",
   "version": "3.9.7"
  },
  "orig_nbformat": 4
 },
 "nbformat": 4,
 "nbformat_minor": 2
}
